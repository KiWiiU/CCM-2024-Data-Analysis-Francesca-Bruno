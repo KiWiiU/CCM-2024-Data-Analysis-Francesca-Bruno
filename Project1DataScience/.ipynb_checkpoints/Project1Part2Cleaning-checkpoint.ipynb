{
 "cells": [
  {
   "cell_type": "markdown",
   "id": "b1e6110f-767c-4a06-b439-4c609a0c0c4f",
   "metadata": {},
   "source": [
    "# Francesca Bruno\n",
    "# 10/1/2024 (Updated 10/17/2024)\n",
    "# Part Two of Project 1 (Cleaning Data)\n",
    "## Cleaning the data on the 2024 Non-Majors Survey Results and 2024 Majors Survey Results"
   ]
  },
  {
   "cell_type": "code",
   "execution_count": 162,
   "id": "b8f49c47-07ea-4a02-81aa-d7d6c90b8e84",
   "metadata": {},
   "outputs": [],
   "source": [
    "import pandas as pd\n",
    "df = pd.read_csv(\"Non-Majors Survey Results - Fall 2024.csv\")\n",
    "df2 = pd.read_csv(\"MajorsSurveyResults2024.csv\")"
   ]
  },
  {
   "cell_type": "markdown",
   "id": "46ddd1c7-efe0-4b78-a679-c17069d60af5",
   "metadata": {},
   "source": [
    "## Using replace to swap all spaces with underscores so the names of the columns can be used in the code, and making everything lowercase for convenience"
   ]
  },
  {
   "cell_type": "code",
   "execution_count": 164,
   "id": "3c5b75c8-fc8e-479f-8452-e9b0ff88e286",
   "metadata": {},
   "outputs": [
    {
     "name": "stdout",
     "output_type": "stream",
     "text": [
      "Index(['timestamp', 'which_course_are_you_enrolled_in?',\n",
      "       'how_did_you_hear_about_county_college_of_morris?_[ccm_web_site]',\n",
      "       'how_did_you_hear_about_county_college_of_morris?_[social_media]',\n",
      "       'how_did_you_hear_about_county_college_of_morris?_[community_event]',\n",
      "       'how_did_you_hear_about_county_college_of_morris?_[family_member_or_friend]',\n",
      "       'how_did_you_hear_about_county_college_of_morris?_[current_ccm_student]',\n",
      "       'how_did_you_hear_about_county_college_of_morris?_[ccm_alumni]',\n",
      "       'how_did_you_hear_about_county_college_of_morris?_[high_school_teacher]',\n",
      "       'how_did_you_hear_about_county_college_of_morris?_[high_school_counselor]',\n",
      "       'how_did_you_hear_about_county_college_of_morris?_[in-app_advertisement]',\n",
      "       'how_did_you_hear_about_county_college_of_morris?_[employer]',\n",
      "       'how_did_you_hear_about_county_college_of_morris?_[billboard]',\n",
      "       'how_did_you_hear_about_county_college_of_morris?_[television]',\n",
      "       'how_did_you_hear_about_county_college_of_morris?_[radio]',\n",
      "       'how_did_you_hear_about_county_college_of_morris?_[other]',\n",
      "       'to_what_extent_did_the_following_impact_your_decision_to_attend_county_college_of_morris?_[affordable_cost]',\n",
      "       'to_what_extent_did_the_following_impact_your_decision_to_attend_county_college_of_morris?_[location/convenience]',\n",
      "       'to_what_extent_did_the_following_impact_your_decision_to_attend_county_college_of_morris?_[choice_of_programs]',\n",
      "       'to_what_extent_did_the_following_impact_your_decision_to_attend_county_college_of_morris?_[online_offerings]',\n",
      "       'to_what_extent_did_the_following_impact_your_decision_to_attend_county_college_of_morris?_[family/friend_referral]',\n",
      "       'to_what_extent_did_the_following_impact_your_decision_to_attend_county_college_of_morris?_[faculty/staff]',\n",
      "       'to_what_extent_did_the_following_impact_your_decision_to_attend_county_college_of_morris?_[college_reputation]',\n",
      "       'to_what_extent_did_the_following_impact_your_decision_to_attend_county_college_of_morris?_[financial_aid]',\n",
      "       'to_what_extent_did_the_following_impact_your_decision_to_attend_county_college_of_morris?_[scholarships]',\n",
      "       'to_what_extent_did_the_following_impact_your_decision_to_attend_county_college_of_morris?_[small_class_sizes]',\n",
      "       'to_what_extent_did_the_following_impact_your_decision_to_attend_county_college_of_morris?_[extra-curricular_opportunities]',\n",
      "       'to_what_extent_did_the_following_impact_your_decision_to_attend_county_college_of_morris?_[accepted_my_transfer_credits]',\n",
      "       'to_what_extent_did_the_following_impact_your_decision_to_attend_county_college_of_morris?_[negative_experience_at_another_college]',\n",
      "       'to_what_extent_did_the_following_impact_your_decision_to_attend_county_college_of_morris?_[nj_stars_program]',\n",
      "       'to_what_extent_did_the_following_impact_your_decision_to_attend_county_college_of_morris?_[ability_to_transfer_ccm_credits_to_a_4-year_school]',\n",
      "       'to_what_extent_did_the_following_impact_your_decision_to_attend_county_college_of_morris?_[get_college_credit_while_in_high_school]',\n",
      "       'prior_to_applying_to_college,_did_you_participate_in_any_of_the_following_events_or_activities_at_the_county_college_of_morris_and/or_with_the_department_of_information_technologies,_if_at_all?_[open_house]',\n",
      "       'prior_to_applying_to_college,_did_you_participate_in_any_of_the_following_events_or_activities_at_the_county_college_of_morris_and/or_with_the_department_of_information_technologies,_if_at_all?_[instant_decision_day]',\n",
      "       'prior_to_applying_to_college,_did_you_participate_in_any_of_the_following_events_or_activities_at_the_county_college_of_morris_and/or_with_the_department_of_information_technologies,_if_at_all?_[on-campus_information_session]',\n",
      "       'prior_to_applying_to_college,_did_you_participate_in_any_of_the_following_events_or_activities_at_the_county_college_of_morris_and/or_with_the_department_of_information_technologies,_if_at_all?_[titans_tuesday_(virtual)_information_session]',\n",
      "       'prior_to_applying_to_college,_did_you_participate_in_any_of_the_following_events_or_activities_at_the_county_college_of_morris_and/or_with_the_department_of_information_technologies,_if_at_all?_[women_who_dare]',\n",
      "       'prior_to_applying_to_college,_did_you_participate_in_any_of_the_following_events_or_activities_at_the_county_college_of_morris_and/or_with_the_department_of_information_technologies,_if_at_all?_[regional_college_fair]',\n",
      "       'prior_to_applying_to_college,_did_you_participate_in_any_of_the_following_events_or_activities_at_the_county_college_of_morris_and/or_with_the_department_of_information_technologies,_if_at_all?_[hs_sharetime_information_session]',\n",
      "       'prior_to_applying_to_college,_did_you_participate_in_any_of_the_following_events_or_activities_at_the_county_college_of_morris_and/or_with_the_department_of_information_technologies,_if_at_all?_[challenger_program]',\n",
      "       'prior_to_applying_to_college,_did_you_participate_in_any_of_the_following_events_or_activities_at_the_county_college_of_morris_and/or_with_the_department_of_information_technologies,_if_at_all?_[cybersecurity_information_protection_program_participation_]',\n",
      "       'prior_to_applying_to_college,_did_you_participate_in_any_of_the_following_events_or_activities_at_the_county_college_of_morris_and/or_with_the_department_of_information_technologies,_if_at_all?_[information_session_at_my_high_school]',\n",
      "       'prior_to_applying_to_college,_did_you_participate_in_any_of_the_following_events_or_activities_at_the_county_college_of_morris_and/or_with_the_department_of_information_technologies,_if_at_all?_[campus_visit_with_my_high_school]',\n",
      "       'prior_to_applying_to_college,_did_you_participate_in_any_of_the_following_events_or_activities_at_the_county_college_of_morris_and/or_with_the_department_of_information_technologies,_if_at_all?_[campus_visit_(individual)]',\n",
      "       'prior_to_applying_to_college,_did_you_participate_in_any_of_the_following_events_or_activities_at_the_county_college_of_morris_and/or_with_the_department_of_information_technologies,_if_at_all?_[workforce_development_class]',\n",
      "       'prior_to_applying_to_college,_did_you_participate_in_any_of_the_following_events_or_activities_at_the_county_college_of_morris_and/or_with_the_department_of_information_technologies,_if_at_all?_[corporate_training]',\n",
      "       'prior_to_applying_to_college,_did_you_participate_in_any_of_the_following_events_or_activities_at_the_county_college_of_morris_and/or_with_the_department_of_information_technologies,_if_at_all?_[teen_arts_festival]',\n",
      "       'prior_to_applying_to_college,_did_you_participate_in_any_of_the_following_events_or_activities_at_the_county_college_of_morris_and/or_with_the_department_of_information_technologies,_if_at_all?_[summer_camp_at_ccm]',\n",
      "       'to_what_extent_did_the_following_activities_or_experience_impact_your_decision_to_enroll_in_an_computing_course_at_ccm?_[middle/high_school_computing_class]',\n",
      "       'to_what_extent_did_the_following_activities_or_experience_impact_your_decision_to_enroll_in_an_computing_course_at_ccm?_[middle/high_school_computing_related_club]',\n",
      "       'to_what_extent_did_the_following_activities_or_experience_impact_your_decision_to_enroll_in_an_computing_course_at_ccm?_[computing-related_competitions_(e.g.,_robotics_competition,_lego_competition,_cybersecurity,_programming)]',\n",
      "       'to_what_extent_did_the_following_activities_or_experience_impact_your_decision_to_enroll_in_an_computing_course_at_ccm?_[afterschool_computing-related_camp/program]',\n",
      "       'to_what_extent_did_the_following_activities_or_experience_impact_your_decision_to_enroll_in_an_computing_course_at_ccm?_[summer_computing_related_camp/program]',\n",
      "       'to_what_extent_did_the_following_activities_or_experience_impact_your_decision_to_enroll_in_an_computing_course_at_ccm?_[an_ap_computing_class]',\n",
      "       'to_what_extent_did_the_following_activities_or_experience_impact_your_decision_to_enroll_in_an_computing_course_at_ccm?_[a_dual_enrollment_computing_class]',\n",
      "       'to_what_extent_did_the_following_activities_or_experience_impact_your_decision_to_enroll_in_an_computing_course_at_ccm?_[family_or_friend_influence]',\n",
      "       'to_what_extent_did_the_following_activities_or_experience_impact_your_decision_to_enroll_in_an_computing_course_at_ccm?_[family_or_friend_working_in_the_computing_field]',\n",
      "       'to_what_extent_did_the_following_activities_or_experience_impact_your_decision_to_enroll_in_an_computing_course_at_ccm?_[high_school_teacher_or_guidance_counselor]',\n",
      "       'to_what_extent_did_the_following_activities_or_experience_impact_your_decision_to_enroll_in_an_computing_course_at_ccm?_[employer_influence]',\n",
      "       'to_what_extent_did_the_following_activities_or_experience_impact_your_decision_to_enroll_in_an_computing_course_at_ccm?_[current_ccm_student]',\n",
      "       'to_what_extent_did_the_following_activities_or_experience_impact_your_decision_to_enroll_in_an_computing_course_at_ccm?_[experience_at_work]',\n",
      "       'to_what_extent_did_the_following_activities_or_experience_impact_your_decision_to_enroll_in_an_computing_course_at_ccm?_[other]',\n",
      "       'what_degree_program_are_you_currently_enrolled_in?',\n",
      "       'what_motivated_you_to_seek_a_computing_degree/certificate_at_ccm?__[to_get_a_job_in_the_computing_field]',\n",
      "       'what_motivated_you_to_seek_a_computing_degree/certificate_at_ccm?__[transfer_to_bachelor's_level_program]',\n",
      "       'what_motivated_you_to_seek_a_computing_degree/certificate_at_ccm?__[transfer_credits_back_to_hs_degree_(sharetime,_challenger_program)]',\n",
      "       'what_motivated_you_to_seek_a_computing_degree/certificate_at_ccm?__[career_advancement]',\n",
      "       'what_motivated_you_to_seek_a_computing_degree/certificate_at_ccm?__[career_change]',\n",
      "       'what_motivated_you_to_seek_a_computing_degree/certificate_at_ccm?__[professional_development]',\n",
      "       'what_motivated_you_to_seek_a_computing_degree/certificate_at_ccm?__[job_displacement]',\n",
      "       'what_motivated_you_to_seek_a_computing_degree/certificate_at_ccm?__[relocation]',\n",
      "       'what_motivated_you_to_seek_a_computing_degree/certificate_at_ccm?__[to_keep_current_in_tech_industry]',\n",
      "       'what_motivated_you_to_seek_a_computing_degree/certificate_at_ccm?__[it_industry_certifications]',\n",
      "       'what_motivated_you_to_seek_a_computing_degree/certificate_at_ccm?__[financial]',\n",
      "       'what_motivated_you_to_seek_a_computing_degree/certificate_at_ccm?__[personal_enrichment]',\n",
      "       'did_you_receive_information_about_the_ccm_computing_programs_from_any_of_the_following_sources?_[high_school_guidance_counselor]',\n",
      "       'did_you_receive_information_about_the_ccm_computing_programs_from_any_of_the_following_sources?_[high_school_teacher]',\n",
      "       'did_you_receive_information_about_the_ccm_computing_programs_from_any_of_the_following_sources?_[ccm_information_technologies_website]',\n",
      "       'did_you_receive_information_about_the_ccm_computing_programs_from_any_of_the_following_sources?_[ccm_admissions]',\n",
      "       'did_you_receive_information_about_the_ccm_computing_programs_from_any_of_the_following_sources?_[ccm_advisor/counselor]',\n",
      "       'did_you_receive_information_about_the_ccm_computing_programs_from_any_of_the_following_sources?_[employer]',\n",
      "       'did_you_receive_information_about_the_ccm_computing_programs_from_any_of_the_following_sources?_[ccm_workforce_development]',\n",
      "       'did_you_receive_information_about_the_ccm_computing_programs_from_any_of_the_following_sources?_[nj_workforce_development_program]',\n",
      "       'did_you_receive_information_about_the_ccm_computing_programs_from_any_of_the_following_sources?_[other]',\n",
      "       'was_a_computing_major/certificate_your_first_choice,_or_did_you_change_majors_from_a_different_ccm_program?_if_you_changed_majors,_indicate_what_your_first_major_was.',\n",
      "       'on_a_scale_of_1_to_5,_with_1_being_not_at_all_interested_and_5_being_extremely_interested,_how_interested_are_you_in_taking_more_computing_classes?',\n",
      "       'please_explain_your_answer_to_the_question_above.__why_or_why_not_would_you_be_interested_in_taking_another_computing_class?',\n",
      "       'gender', 'race/ethnicity', 'age'],\n",
      "      dtype='object')\n",
      "Index(['timestamp', 'which_course_are_you_currently_enrolled_in?',\n",
      "       'what_motivated_you_to_seek_a_computing_class_at_ccm?_[it’s_a_required_class_for_the_degree_i’m_seeking]',\n",
      "       'what_motivated_you_to_seek_a_computing_class_at_ccm?_[to_keep_current_in_computing_skills]',\n",
      "       'what_motivated_you_to_seek_a_computing_class_at_ccm?_[career_advancement]',\n",
      "       'what_motivated_you_to_seek_a_computing_class_at_ccm?_[career_change]',\n",
      "       'what_motivated_you_to_seek_a_computing_class_at_ccm?_[professional_development]',\n",
      "       'what_motivated_you_to_seek_a_computing_class_at_ccm?_[job_displacement]',\n",
      "       'what_motivated_you_to_seek_a_computing_class_at_ccm?_[relocation]',\n",
      "       'what_motivated_you_to_seek_a_computing_class_at_ccm?_[it_industry_certifications]',\n",
      "       'what_motivated_you_to_seek_a_computing_class_at_ccm?_[financial]',\n",
      "       'what_motivated_you_to_seek_a_computing_class_at_ccm?_[personal_enrichment]',\n",
      "       'what_motivated_you_to_seek_a_computing_class_at_ccm?_[curiosity]',\n",
      "       'prior_to_applying_to_college,_did_you_participate_in_any_of_the_following_events_or_activities_at_the_county_college_of_morris_and/or_with_the_department_of_information_technologies,_if_at_all?_[open_house]',\n",
      "       'prior_to_applying_to_college,_did_you_participate_in_any_of_the_following_events_or_activities_at_the_county_college_of_morris_and/or_with_the_department_of_information_technologies,_if_at_all?_[instant_decision_day]',\n",
      "       'prior_to_applying_to_college,_did_you_participate_in_any_of_the_following_events_or_activities_at_the_county_college_of_morris_and/or_with_the_department_of_information_technologies,_if_at_all?_[on-campus_information_session]',\n",
      "       'prior_to_applying_to_college,_did_you_participate_in_any_of_the_following_events_or_activities_at_the_county_college_of_morris_and/or_with_the_department_of_information_technologies,_if_at_all?_[titan's_tuesday_virtual_information_session]',\n",
      "       'prior_to_applying_to_college,_did_you_participate_in_any_of_the_following_events_or_activities_at_the_county_college_of_morris_and/or_with_the_department_of_information_technologies,_if_at_all?_[women_who_dare]',\n",
      "       'prior_to_applying_to_college,_did_you_participate_in_any_of_the_following_events_or_activities_at_the_county_college_of_morris_and/or_with_the_department_of_information_technologies,_if_at_all?_[regional_college_fair]',\n",
      "       'to_what_extent_did_the_following_activities_or_experience_impact_your_decision_to_enroll_in_an_computing_course_at_ccm?_[middle/high_school_computing_class]',\n",
      "       'to_what_extent_did_the_following_activities_or_experience_impact_your_decision_to_enroll_in_an_computing_course_at_ccm?_[middle/high_school_computing_related_club]',\n",
      "       'to_what_extent_did_the_following_activities_or_experience_impact_your_decision_to_enroll_in_an_computing_course_at_ccm?_[computing-related_competitions_(e.g.,_robotics_competition,_lego_competition,_cybersecurity,_programming)]',\n",
      "       'to_what_extent_did_the_following_activities_or_experience_impact_your_decision_to_enroll_in_an_computing_course_at_ccm?_[afterschool_computing-related_camp/program]',\n",
      "       'to_what_extent_did_the_following_activities_or_experience_impact_your_decision_to_enroll_in_an_computing_course_at_ccm?_[summer_computing_related_camp/program]',\n",
      "       'to_what_extent_did_the_following_activities_or_experience_impact_your_decision_to_enroll_in_an_computing_course_at_ccm?_[an_ap_computing_class]',\n",
      "       'to_what_extent_did_the_following_activities_or_experience_impact_your_decision_to_enroll_in_an_computing_course_at_ccm?_[a_dual_enrollment_computing_class]',\n",
      "       'to_what_extent_did_the_following_activities_or_experience_impact_your_decision_to_enroll_in_an_computing_course_at_ccm?_[family_or_friend_influence]',\n",
      "       'to_what_extent_did_the_following_activities_or_experience_impact_your_decision_to_enroll_in_an_computing_course_at_ccm?_[family_or_friend_working_in_the_computing_field]',\n",
      "       'to_what_extent_did_the_following_activities_or_experience_impact_your_decision_to_enroll_in_an_computing_course_at_ccm?_[high_school_teacher_or_guidance_counselor]',\n",
      "       'to_what_extent_did_the_following_activities_or_experience_impact_your_decision_to_enroll_in_an_computing_course_at_ccm?_[employer_influence]',\n",
      "       'how_did_you_hear_about_county_college_of_morris__[ccm_web_site]',\n",
      "       'how_did_you_hear_about_county_college_of_morris__[billboard]',\n",
      "       'how_did_you_hear_about_county_college_of_morris__[television]',\n",
      "       'how_did_you_hear_about_county_college_of_morris__[radio]',\n",
      "       'how_did_you_hear_about_county_college_of_morris__[social_media]',\n",
      "       'how_did_you_hear_about_county_college_of_morris__[community_event]',\n",
      "       'how_did_you_hear_about_county_college_of_morris__[family_member_or_friend]',\n",
      "       'how_did_you_hear_about_county_college_of_morris__[employer]',\n",
      "       'how_did_you_hear_about_county_college_of_morris__[current_student]',\n",
      "       'how_did_you_hear_about_county_college_of_morris__[alumni]',\n",
      "       'how_did_you_hear_about_county_college_of_morris__[high_school]',\n",
      "       'to_what_extent_did_the_following_impact_your_decision_to_attend_county_college_of_morris?_[affordable_cost]',\n",
      "       'to_what_extent_did_the_following_impact_your_decision_to_attend_county_college_of_morris?_[location/convenience]',\n",
      "       'to_what_extent_did_the_following_impact_your_decision_to_attend_county_college_of_morris?_[choice_of_programs]',\n",
      "       'to_what_extent_did_the_following_impact_your_decision_to_attend_county_college_of_morris?_[online_offerings]',\n",
      "       'to_what_extent_did_the_following_impact_your_decision_to_attend_county_college_of_morris?_[family/friend_referral]',\n",
      "       'to_what_extent_did_the_following_impact_your_decision_to_attend_county_college_of_morris?_[faculty/staff]',\n",
      "       'to_what_extent_did_the_following_impact_your_decision_to_attend_county_college_of_morris?_[college_reputation]',\n",
      "       'to_what_extent_did_the_following_impact_your_decision_to_attend_county_college_of_morris?_[scholarships]',\n",
      "       'to_what_extent_did_the_following_impact_your_decision_to_attend_county_college_of_morris?_[transfer_student]',\n",
      "       'to_what_extent_did_the_following_impact_your_decision_to_attend_county_college_of_morris?_[small_class_sizes]',\n",
      "       'to_what_extent_did_the_following_impact_your_decision_to_attend_county_college_of_morris?_[extra_curricula_opportunities]',\n",
      "       'what_degree_program_are_you_currently_enrolled_in?',\n",
      "       'did_you_receive_information_about_our_computing_course_from_any_of_the_following_sources?_[high_school_guidance_counselor]',\n",
      "       'did_you_receive_information_about_our_computing_course_from_any_of_the_following_sources?_[ccm_information_technologies_website]',\n",
      "       'did_you_receive_information_about_our_computing_course_from_any_of_the_following_sources?_[ccm_admissions]',\n",
      "       'did_you_receive_information_about_our_computing_course_from_any_of_the_following_sources?_[ccm_advisor/counselor]',\n",
      "       'did_you_receive_information_about_our_computing_course_from_any_of_the_following_sources?_[employer]',\n",
      "       'did_you_receive_information_about_our_computing_course_from_any_of_the_following_sources?_[other]',\n",
      "       'on_a_scale_of_1_to_5,_with_1_being_not_at_all_interested_and_5_being_extremely_interested,_how_interested_are_you_taking_more_courses_in_computer_science,_information_technology_or_game_development?',\n",
      "       'if_you_answered_that_you_were_interested_in_taking_more_computing_classes,_which_ones_interest_you_most?_[web_development]',\n",
      "       'if_you_answered_that_you_were_interested_in_taking_more_computing_classes,_which_ones_interest_you_most?_[cybersecurity]',\n",
      "       'if_you_answered_that_you_were_interested_in_taking_more_computing_classes,_which_ones_interest_you_most?_[app_development]',\n",
      "       'if_you_answered_that_you_were_interested_in_taking_more_computing_classes,_which_ones_interest_you_most?_[data_analytics]',\n",
      "       'if_you_answered_that_you_were_interested_in_taking_more_computing_classes,_which_ones_interest_you_most?_[machine_learning/artificial_intelligence]',\n",
      "       'if_you_answered_that_you_were_interested_in_taking_more_computing_classes,_which_ones_interest_you_most?_[computer_programming]',\n",
      "       'if_you_answered_that_you_were_interested_in_taking_more_computing_classes,_which_ones_interest_you_most?_[game_design]',\n",
      "       'if_you_answered_that_you_were_interested_in_taking_more_computing_classes,_which_ones_interest_you_most?_[hardware_installation_&_repair]',\n",
      "       'gender', 'race/ethnicity', 'age_'],\n",
      "      dtype='object')\n"
     ]
    }
   ],
   "source": [
    "df2.columns = df2.columns.str.replace(\" \", \"_\")\n",
    "df2.columns = df2.columns.str.lower()\n",
    "df2.rename(columns=({'age_':'age'}), inplace = True)\n",
    "print(df2.columns) \n",
    "\n",
    "df.columns = df.columns.str.replace(\" \", \"_\")\n",
    "df.columns = df.columns.str.lower()\n",
    "print(df.columns)"
   ]
  },
  {
   "cell_type": "markdown",
   "id": "7264f42a-4bf7-4e69-9db7-23b07f03f7bd",
   "metadata": {},
   "source": [
    "## removing the timestamp column because it is unnecessary to the analysis, and removing the extra underscore after the name of the Age column"
   ]
  },
  {
   "cell_type": "code",
   "execution_count": 166,
   "id": "94b5361f-df99-4394-a0ce-6ff37078b7d4",
   "metadata": {},
   "outputs": [
    {
     "name": "stdout",
     "output_type": "stream",
     "text": [
      "Index(['which_course_are_you_currently_enrolled_in?',\n",
      "       'what_motivated_you_to_seek_a_computing_class_at_ccm?_[it’s_a_required_class_for_the_degree_i’m_seeking]',\n",
      "       'what_motivated_you_to_seek_a_computing_class_at_ccm?_[to_keep_current_in_computing_skills]',\n",
      "       'what_motivated_you_to_seek_a_computing_class_at_ccm?_[career_advancement]',\n",
      "       'what_motivated_you_to_seek_a_computing_class_at_ccm?_[career_change]',\n",
      "       'what_motivated_you_to_seek_a_computing_class_at_ccm?_[professional_development]',\n",
      "       'what_motivated_you_to_seek_a_computing_class_at_ccm?_[job_displacement]',\n",
      "       'what_motivated_you_to_seek_a_computing_class_at_ccm?_[relocation]',\n",
      "       'what_motivated_you_to_seek_a_computing_class_at_ccm?_[it_industry_certifications]',\n",
      "       'what_motivated_you_to_seek_a_computing_class_at_ccm?_[financial]',\n",
      "       'what_motivated_you_to_seek_a_computing_class_at_ccm?_[personal_enrichment]',\n",
      "       'what_motivated_you_to_seek_a_computing_class_at_ccm?_[curiosity]',\n",
      "       'prior_to_applying_to_college,_did_you_participate_in_any_of_the_following_events_or_activities_at_the_county_college_of_morris_and/or_with_the_department_of_information_technologies,_if_at_all?_[open_house]',\n",
      "       'prior_to_applying_to_college,_did_you_participate_in_any_of_the_following_events_or_activities_at_the_county_college_of_morris_and/or_with_the_department_of_information_technologies,_if_at_all?_[instant_decision_day]',\n",
      "       'prior_to_applying_to_college,_did_you_participate_in_any_of_the_following_events_or_activities_at_the_county_college_of_morris_and/or_with_the_department_of_information_technologies,_if_at_all?_[on-campus_information_session]',\n",
      "       'prior_to_applying_to_college,_did_you_participate_in_any_of_the_following_events_or_activities_at_the_county_college_of_morris_and/or_with_the_department_of_information_technologies,_if_at_all?_[titan's_tuesday_virtual_information_session]',\n",
      "       'prior_to_applying_to_college,_did_you_participate_in_any_of_the_following_events_or_activities_at_the_county_college_of_morris_and/or_with_the_department_of_information_technologies,_if_at_all?_[women_who_dare]',\n",
      "       'prior_to_applying_to_college,_did_you_participate_in_any_of_the_following_events_or_activities_at_the_county_college_of_morris_and/or_with_the_department_of_information_technologies,_if_at_all?_[regional_college_fair]',\n",
      "       'to_what_extent_did_the_following_activities_or_experience_impact_your_decision_to_enroll_in_an_computing_course_at_ccm?_[middle/high_school_computing_class]',\n",
      "       'to_what_extent_did_the_following_activities_or_experience_impact_your_decision_to_enroll_in_an_computing_course_at_ccm?_[middle/high_school_computing_related_club]',\n",
      "       'to_what_extent_did_the_following_activities_or_experience_impact_your_decision_to_enroll_in_an_computing_course_at_ccm?_[computing-related_competitions_(e.g.,_robotics_competition,_lego_competition,_cybersecurity,_programming)]',\n",
      "       'to_what_extent_did_the_following_activities_or_experience_impact_your_decision_to_enroll_in_an_computing_course_at_ccm?_[afterschool_computing-related_camp/program]',\n",
      "       'to_what_extent_did_the_following_activities_or_experience_impact_your_decision_to_enroll_in_an_computing_course_at_ccm?_[summer_computing_related_camp/program]',\n",
      "       'to_what_extent_did_the_following_activities_or_experience_impact_your_decision_to_enroll_in_an_computing_course_at_ccm?_[an_ap_computing_class]',\n",
      "       'to_what_extent_did_the_following_activities_or_experience_impact_your_decision_to_enroll_in_an_computing_course_at_ccm?_[a_dual_enrollment_computing_class]',\n",
      "       'to_what_extent_did_the_following_activities_or_experience_impact_your_decision_to_enroll_in_an_computing_course_at_ccm?_[family_or_friend_influence]',\n",
      "       'to_what_extent_did_the_following_activities_or_experience_impact_your_decision_to_enroll_in_an_computing_course_at_ccm?_[family_or_friend_working_in_the_computing_field]',\n",
      "       'to_what_extent_did_the_following_activities_or_experience_impact_your_decision_to_enroll_in_an_computing_course_at_ccm?_[high_school_teacher_or_guidance_counselor]',\n",
      "       'to_what_extent_did_the_following_activities_or_experience_impact_your_decision_to_enroll_in_an_computing_course_at_ccm?_[employer_influence]',\n",
      "       'how_did_you_hear_about_county_college_of_morris__[ccm_web_site]',\n",
      "       'how_did_you_hear_about_county_college_of_morris__[billboard]',\n",
      "       'how_did_you_hear_about_county_college_of_morris__[television]',\n",
      "       'how_did_you_hear_about_county_college_of_morris__[radio]',\n",
      "       'how_did_you_hear_about_county_college_of_morris__[social_media]',\n",
      "       'how_did_you_hear_about_county_college_of_morris__[community_event]',\n",
      "       'how_did_you_hear_about_county_college_of_morris__[family_member_or_friend]',\n",
      "       'how_did_you_hear_about_county_college_of_morris__[employer]',\n",
      "       'how_did_you_hear_about_county_college_of_morris__[current_student]',\n",
      "       'how_did_you_hear_about_county_college_of_morris__[alumni]',\n",
      "       'how_did_you_hear_about_county_college_of_morris__[high_school]',\n",
      "       'to_what_extent_did_the_following_impact_your_decision_to_attend_county_college_of_morris?_[affordable_cost]',\n",
      "       'to_what_extent_did_the_following_impact_your_decision_to_attend_county_college_of_morris?_[location/convenience]',\n",
      "       'to_what_extent_did_the_following_impact_your_decision_to_attend_county_college_of_morris?_[choice_of_programs]',\n",
      "       'to_what_extent_did_the_following_impact_your_decision_to_attend_county_college_of_morris?_[online_offerings]',\n",
      "       'to_what_extent_did_the_following_impact_your_decision_to_attend_county_college_of_morris?_[family/friend_referral]',\n",
      "       'to_what_extent_did_the_following_impact_your_decision_to_attend_county_college_of_morris?_[faculty/staff]',\n",
      "       'to_what_extent_did_the_following_impact_your_decision_to_attend_county_college_of_morris?_[college_reputation]',\n",
      "       'to_what_extent_did_the_following_impact_your_decision_to_attend_county_college_of_morris?_[scholarships]',\n",
      "       'to_what_extent_did_the_following_impact_your_decision_to_attend_county_college_of_morris?_[transfer_student]',\n",
      "       'to_what_extent_did_the_following_impact_your_decision_to_attend_county_college_of_morris?_[small_class_sizes]',\n",
      "       'to_what_extent_did_the_following_impact_your_decision_to_attend_county_college_of_morris?_[extra_curricula_opportunities]',\n",
      "       'what_degree_program_are_you_currently_enrolled_in?',\n",
      "       'did_you_receive_information_about_our_computing_course_from_any_of_the_following_sources?_[high_school_guidance_counselor]',\n",
      "       'did_you_receive_information_about_our_computing_course_from_any_of_the_following_sources?_[ccm_information_technologies_website]',\n",
      "       'did_you_receive_information_about_our_computing_course_from_any_of_the_following_sources?_[ccm_admissions]',\n",
      "       'did_you_receive_information_about_our_computing_course_from_any_of_the_following_sources?_[ccm_advisor/counselor]',\n",
      "       'did_you_receive_information_about_our_computing_course_from_any_of_the_following_sources?_[employer]',\n",
      "       'did_you_receive_information_about_our_computing_course_from_any_of_the_following_sources?_[other]',\n",
      "       'on_a_scale_of_1_to_5,_with_1_being_not_at_all_interested_and_5_being_extremely_interested,_how_interested_are_you_taking_more_courses_in_computer_science,_information_technology_or_game_development?',\n",
      "       'if_you_answered_that_you_were_interested_in_taking_more_computing_classes,_which_ones_interest_you_most?_[web_development]',\n",
      "       'if_you_answered_that_you_were_interested_in_taking_more_computing_classes,_which_ones_interest_you_most?_[cybersecurity]',\n",
      "       'if_you_answered_that_you_were_interested_in_taking_more_computing_classes,_which_ones_interest_you_most?_[app_development]',\n",
      "       'if_you_answered_that_you_were_interested_in_taking_more_computing_classes,_which_ones_interest_you_most?_[data_analytics]',\n",
      "       'if_you_answered_that_you_were_interested_in_taking_more_computing_classes,_which_ones_interest_you_most?_[machine_learning/artificial_intelligence]',\n",
      "       'if_you_answered_that_you_were_interested_in_taking_more_computing_classes,_which_ones_interest_you_most?_[computer_programming]',\n",
      "       'if_you_answered_that_you_were_interested_in_taking_more_computing_classes,_which_ones_interest_you_most?_[game_design]',\n",
      "       'if_you_answered_that_you_were_interested_in_taking_more_computing_classes,_which_ones_interest_you_most?_[hardware_installation_&_repair]',\n",
      "       'gender', 'race/ethnicity', 'age'],\n",
      "      dtype='object')\n"
     ]
    }
   ],
   "source": [
    "df2 = df2['age']\n",
    "\n",
    "df.drop(axis = 1, columns=['timestamp'], inplace = True)\n",
    "df.rename(columns=({'age_':'age'}), inplace = True)\n",
    "print(df.columns)"
   ]
  },
  {
   "cell_type": "markdown",
   "id": "f0641f12-f54c-4604-a940-3687f697dd67",
   "metadata": {},
   "source": [
    "## Replacing every response to Race/Ethnicity that select multiple options with 'Multi-Racial' using regular expressions.\n",
    "### Every raw string (r'), not case sensitive (?i), that anywhere from the very beginning (^) contains ';' (.*;.*) anywhere until the very end ($) should be changed to 'Multi-Racial'"
   ]
  },
  {
   "cell_type": "code",
   "execution_count": 168,
   "id": "ec28fc30-d010-4e12-8e32-47a6f8cee3de",
   "metadata": {},
   "outputs": [
    {
     "data": {
      "text/plain": [
       "0     Hispanic or Latino;Black/African American;Whit...\n",
       "1                                    Hispanic or Latino\n",
       "2                                   Choose not to reply\n",
       "3                                    Hispanic or Latino\n",
       "4                                       White/Caucasian\n",
       "                            ...                        \n",
       "87                   Hispanic or Latino;White/Caucasian\n",
       "88                                   Hispanic or Latino\n",
       "89                               Black/African American\n",
       "90                                   Hispanic or Latino\n",
       "91                                                Asian\n",
       "Name: race/ethnicity, Length: 92, dtype: object"
      ]
     },
     "execution_count": 168,
     "metadata": {},
     "output_type": "execute_result"
    }
   ],
   "source": [
    "# original (same for df2)\n",
    "df['race/ethnicity']"
   ]
  },
  {
   "cell_type": "code",
   "execution_count": 169,
   "id": "51dbd4e1-886d-45b9-95b3-e85d9a6e8f1f",
   "metadata": {
    "scrolled": true
   },
   "outputs": [
    {
     "name": "stdout",
     "output_type": "stream",
     "text": [
      "0               Multi-Racial\n",
      "1         Hispanic or Latino\n",
      "2        Choose not to reply\n",
      "3         Hispanic or Latino\n",
      "4            White/Caucasian\n",
      "               ...          \n",
      "87              Multi-Racial\n",
      "88        Hispanic or Latino\n",
      "89    Black/African American\n",
      "90        Hispanic or Latino\n",
      "91                     Asian\n",
      "Name: race/ethnicity, Length: 92, dtype: object\n"
     ]
    }
   ],
   "source": [
    "# fixed\n",
    "fixed = {\n",
    "    r'(?i)^.*;.*$': 'Multi-Racial'\n",
    "}\n",
    "\n",
    "df['race/ethnicity'] = df['race/ethnicity'].replace(fixed, regex=True)\n",
    "print(df['race/ethnicity'])"
   ]
  },
  {
   "cell_type": "markdown",
   "id": "e8d15c3a-8814-406c-920d-ac2e8b3f22e9",
   "metadata": {},
   "source": [
    "## Dropping some unnecessary columns"
   ]
  },
  {
   "cell_type": "code",
   "execution_count": 171,
   "id": "e91b0a3f-f85e-4b71-8ce0-9ddd9719aa95",
   "metadata": {
    "scrolled": true
   },
   "outputs": [
    {
     "name": "stdout",
     "output_type": "stream",
     "text": [
      "Index(['which_course_are_you_currently_enrolled_in?',\n",
      "       'prior_to_applying_to_college,_did_you_participate_in_any_of_the_following_events_or_activities_at_the_county_college_of_morris_and/or_with_the_department_of_information_technologies,_if_at_all?_[open_house]',\n",
      "       'prior_to_applying_to_college,_did_you_participate_in_any_of_the_following_events_or_activities_at_the_county_college_of_morris_and/or_with_the_department_of_information_technologies,_if_at_all?_[instant_decision_day]',\n",
      "       'prior_to_applying_to_college,_did_you_participate_in_any_of_the_following_events_or_activities_at_the_county_college_of_morris_and/or_with_the_department_of_information_technologies,_if_at_all?_[on-campus_information_session]',\n",
      "       'prior_to_applying_to_college,_did_you_participate_in_any_of_the_following_events_or_activities_at_the_county_college_of_morris_and/or_with_the_department_of_information_technologies,_if_at_all?_[titan's_tuesday_virtual_information_session]',\n",
      "       'prior_to_applying_to_college,_did_you_participate_in_any_of_the_following_events_or_activities_at_the_county_college_of_morris_and/or_with_the_department_of_information_technologies,_if_at_all?_[women_who_dare]',\n",
      "       'prior_to_applying_to_college,_did_you_participate_in_any_of_the_following_events_or_activities_at_the_county_college_of_morris_and/or_with_the_department_of_information_technologies,_if_at_all?_[regional_college_fair]',\n",
      "       'to_what_extent_did_the_following_activities_or_experience_impact_your_decision_to_enroll_in_an_computing_course_at_ccm?_[middle/high_school_computing_class]',\n",
      "       'to_what_extent_did_the_following_activities_or_experience_impact_your_decision_to_enroll_in_an_computing_course_at_ccm?_[middle/high_school_computing_related_club]',\n",
      "       'to_what_extent_did_the_following_activities_or_experience_impact_your_decision_to_enroll_in_an_computing_course_at_ccm?_[computing-related_competitions_(e.g.,_robotics_competition,_lego_competition,_cybersecurity,_programming)]',\n",
      "       'to_what_extent_did_the_following_activities_or_experience_impact_your_decision_to_enroll_in_an_computing_course_at_ccm?_[afterschool_computing-related_camp/program]',\n",
      "       'to_what_extent_did_the_following_activities_or_experience_impact_your_decision_to_enroll_in_an_computing_course_at_ccm?_[summer_computing_related_camp/program]',\n",
      "       'to_what_extent_did_the_following_activities_or_experience_impact_your_decision_to_enroll_in_an_computing_course_at_ccm?_[an_ap_computing_class]',\n",
      "       'to_what_extent_did_the_following_activities_or_experience_impact_your_decision_to_enroll_in_an_computing_course_at_ccm?_[a_dual_enrollment_computing_class]',\n",
      "       'to_what_extent_did_the_following_activities_or_experience_impact_your_decision_to_enroll_in_an_computing_course_at_ccm?_[family_or_friend_influence]',\n",
      "       'to_what_extent_did_the_following_activities_or_experience_impact_your_decision_to_enroll_in_an_computing_course_at_ccm?_[family_or_friend_working_in_the_computing_field]',\n",
      "       'to_what_extent_did_the_following_activities_or_experience_impact_your_decision_to_enroll_in_an_computing_course_at_ccm?_[high_school_teacher_or_guidance_counselor]',\n",
      "       'to_what_extent_did_the_following_activities_or_experience_impact_your_decision_to_enroll_in_an_computing_course_at_ccm?_[employer_influence]',\n",
      "       'how_did_you_hear_about_county_college_of_morris__[ccm_web_site]',\n",
      "       'age'],\n",
      "      dtype='object')\n"
     ]
    }
   ],
   "source": [
    "df = df.drop(df.columns[[1, 2, 3, 4, 5, 6, 7, 8, 9, 10, 11, 30, 31, 32, 33, 34, 35, 36, 37, 38, 39, 40, 41, 42, 43, 44, 45, 46, 47, 48, 49, 50, 51, 52, 53, 54, 55, 56, 57, 58, 59, 60, 61, 62, 63, 64, 65, 66, 67, 68]], axis = 1)\n",
    "print(df.columns)"
   ]
  },
  {
   "cell_type": "markdown",
   "id": "c6c1ea3b-2157-412f-99fa-1a1ca5680818",
   "metadata": {},
   "source": [
    "## Renaming columns"
   ]
  },
  {
   "cell_type": "code",
   "execution_count": 173,
   "id": "a6b4954f-b1f5-4e17-b079-81fc11d2fdb7",
   "metadata": {},
   "outputs": [
    {
     "name": "stdout",
     "output_type": "stream",
     "text": [
      "Index(['course', 'openHouse', 'instantDecision', 'onCampInfo', 'virtualInfo',\n",
      "       'womenWhoDare', 'collegeFair', 'schoolCompsciClass',\n",
      "       'schoolCompsciClub', 'competitions', 'afterschoolCamp', 'summerCamp',\n",
      "       'AP', 'dualEnrollment', 'familyFriendInfluence', 'familyFriendWork',\n",
      "       'highschoolTeacher', 'employer',\n",
      "       'how_did_you_hear_about_county_college_of_morris__[ccm_web_site]',\n",
      "       'age'],\n",
      "      dtype='object')\n"
     ]
    }
   ],
   "source": [
    "df.rename(columns={df.columns[0]:'course',df.columns[1]:'openHouse',df.columns[2]:'instantDecision',df.columns[3]:'onCampInfo',df.columns[4]:'virtualInfo',df.columns[5]:'womenWhoDare',df.columns[6]:'collegeFair',df.columns[7]:'schoolCompsciClass',df.columns[8]:'schoolCompsciClub',df.columns[9]:'competitions',df.columns[10]:'afterschoolCamp',df.columns[11]:'summerCamp',df.columns[12]:'AP',df.columns[13]:'dualEnrollment',df.columns[14]:'familyFriendInfluence',df.columns[15]:'familyFriendWork',df.columns[16]:'highschoolTeacher',df.columns[17]:'employer'}, inplace = True)\n",
    "print(df.columns)"
   ]
  },
  {
   "cell_type": "markdown",
   "id": "62d2c527-3f4e-4519-8c63-4838f6a5ca67",
   "metadata": {},
   "source": [
    "## Saving it to a new csv file"
   ]
  },
  {
   "cell_type": "code",
   "execution_count": 175,
   "id": "3fc45cf3-7085-40c9-a307-c5dcc14817b0",
   "metadata": {},
   "outputs": [],
   "source": [
    "df.to_csv('CLEANED_NonMajors2024.csv', index = False) \n",
    "df2.to_csv('CLEANED_Majors2024.csv', index = False)"
   ]
  }
 ],
 "metadata": {
  "kernelspec": {
   "display_name": "Python 3 (ipykernel)",
   "language": "python",
   "name": "python3"
  },
  "language_info": {
   "codemirror_mode": {
    "name": "ipython",
    "version": 3
   },
   "file_extension": ".py",
   "mimetype": "text/x-python",
   "name": "python",
   "nbconvert_exporter": "python",
   "pygments_lexer": "ipython3",
   "version": "3.12.4"
  }
 },
 "nbformat": 4,
 "nbformat_minor": 5
}
